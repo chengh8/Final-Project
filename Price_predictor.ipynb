{
 "cells": [
  {
   "cell_type": "code",
   "execution_count": 1,
   "metadata": {},
   "outputs": [],
   "source": [
    "import pandas as pd\n",
    "import matplotlib.pyplot as plt\n",
    "import os\n",
    "from sklearn.metrics import confusion_matrix\n",
    "import numpy as np"
   ]
  },
  {
   "cell_type": "code",
   "execution_count": 20,
   "metadata": {},
   "outputs": [],
   "source": [
    "#select two parameters (column_1 and column_2) to regress against price, will also include points\n",
    "#x_rank is number of top highest of each of the categories\n",
    "#percentile is cut off at which highest prices are removed\n",
    "\n",
    "#example:  RegressWines('country', 'variety', 6, 99):\n",
    "#takes the top 6 countries and top 6 varities and points (score), and removes the retains the bottom 99% of prices in distribution and regresses to predict prices\n",
    "#column_1 and column_2 can be any of the following ['country', 'designation', 'province', 'variety', 'price', 'winery']\n",
    "\n",
    "def RegressWines(column_1, column_2, x_ranks, percentile):\n",
    "\n",
    "    #import first 150k reviews, and second 130k reviews\n",
    "    review1 = pd.read_csv(os.path.join('winemag-data_first150k.csv'))\n",
    "    review2 = pd.read_csv(os.path.join('winemag-data-130k-v2.csv'))\n",
    "\n",
    "    #concatenate both dataframes by common columns\n",
    "    review_df = pd.concat([review1, review2], sort=False)\n",
    "\n",
    "    #drop unnamed index columns\n",
    "    review_df = review_df.drop(['Unnamed: 0'], axis=1)\n",
    "    \n",
    "    #reduce reviews to columns we want to regress against\n",
    "    model_df = review_df[['country', 'designation', 'points', 'province', 'variety', 'price', 'winery']]\n",
    "\n",
    "    #drop NaN values\n",
    "    model_df = model_df.dropna()\n",
    "    \n",
    "    #print total number of starting data points\n",
    "    print(f\"Starting data points for analysis: {len(model_df)}\")    \n",
    "    \n",
    "    #list top x ranked items from column_1 and place in list to train data set\n",
    "    category_1 = pd.DataFrame(model_df[column_1].value_counts().head(x_ranks))\n",
    "    category_1 = category_1.index.tolist()\n",
    "    \n",
    "    #list top x ranked items from column_2 and place in list to train data set\n",
    "    category_2 = pd.DataFrame(model_df[column_2].value_counts().head(x_ranks))\n",
    "    category_2 = category_2.index.tolist()\n",
    "\n",
    "     \n",
    "    #reduce dataframe to contain only data points in top x_rank from columns 1 and columns 2 selected\n",
    "    model_df = model_df.loc[model_df[column_1].isin(category_1)]\n",
    "    model_df = model_df.loc[model_df[column_2].isin(category_2)]\n",
    "    \n",
    "    #print remaining number of data points\n",
    "    print(f\"Filtered Data Points: {len(model_df)}\") \n",
    "    print(\"-\"*60)\n",
    "    print(column_1)\n",
    "    print(category_1)\n",
    "    print(\"-\"*60)\n",
    "    print(column_2)\n",
    "    print(category_2)\n",
    "    print(\"-\"*60)\n",
    "    \n",
    "    #max price is definded as percentile cutoff\n",
    "    max_price = np.percentile(model_df['price'], percentile)\n",
    "    print(f\"Starting Max Price = {max_price}\")\n",
    "    \n",
    "    #remove top (100-percentile) of prices\n",
    "    model_df = model_df.loc[model_df['price']<= max_price]\n",
    "    \n",
    "    #print new max price\n",
    "    print(f\"New Max Price = {model_df['price'].max()}\")\n",
    "    \n",
    "    #define X and y parameters\n",
    "    X = model_df[['points', column_1, column_2]]\n",
    "    y = model_df[\"price\"].values.reshape(-1, 1)\n",
    "\n",
    "    #mirror X into data to assign categorical values\n",
    "    data = X.copy()\n",
    "\n",
    "    # using get_dummies with a single column\n",
    "    X = pd.get_dummies(data, columns=[column_1, column_2])\n",
    "    \n",
    "    #define training and testing variables\n",
    "    from sklearn.model_selection import train_test_split\n",
    "\n",
    "    X_train, X_test, y_train, y_test = train_test_split(X, y, random_state=42)\n",
    "\n",
    "    #scale and transform X and y values\n",
    "    from sklearn.preprocessing import StandardScaler\n",
    "    X_scaler = StandardScaler().fit(X_train)\n",
    "    y_scaler = StandardScaler().fit(y_train)\n",
    "         \n",
    "    X_train_scaled = X_scaler.transform(X_train)\n",
    "    X_test_scaled = X_scaler.transform(X_test)\n",
    "    y_train_scaled = y_scaler.transform(y_train)\n",
    "    y_test_scaled = y_scaler.transform(y_test)\n",
    "    \n",
    "    # Generate the model and fit it to the scaled training data\n",
    "    from sklearn.linear_model import LinearRegression\n",
    "    model = LinearRegression()\n",
    "    model.fit(X_train_scaled, y_train_scaled)\n",
    "\n",
    "    plt.scatter(model.predict(X_train_scaled), model.predict(X_train_scaled) - y_train_scaled, c=\"blue\", label=\"Training Data\")\n",
    "    plt.scatter(model.predict(X_test_scaled), model.predict(X_test_scaled) - y_test_scaled, c=\"orange\", label=\"Testing Data\")\n",
    "    plt.legend()\n",
    "    plt.title(\"Residual Plot\")\n",
    "    plt.show()\n",
    "    \n",
    "    from sklearn.metrics import mean_squared_error\n",
    "    \n",
    "    predictions = model.predict(X_test_scaled)\n",
    "\n",
    "    MSE = mean_squared_error(y_test_scaled, predictions)\n",
    "    r2 = model.score(X_test_scaled, y_test_scaled)\n",
    "    ### END SOLUTION\n",
    "\n",
    "    return print(f\"MSE: {MSE}, R2: {r2}\")\n",
    "    "
   ]
  },
  {
   "cell_type": "code",
   "execution_count": 22,
   "metadata": {},
   "outputs": [
    {
     "name": "stdout",
     "output_type": "stream",
     "text": [
      "Starting data points for analysis: 181067\n",
      "Filtered Data Points: 1294\n",
      "------------------------------------------------------------\n",
      "winery\n",
      "['Williams Selyem', 'Testarossa', 'DFJ Vinhos', 'Concha y Toro', 'Columbia Crest', 'Wines & Winemakers']\n",
      "------------------------------------------------------------\n",
      "variety\n",
      "['Pinot Noir', 'Chardonnay', 'Red Blend', 'Cabernet Sauvignon', 'Riesling', 'Syrah']\n",
      "------------------------------------------------------------\n",
      "Starting Max Price = 120.34999999999968\n",
      "New Max Price = 120.0\n"
     ]
    },
    {
     "data": {
      "image/png": "[encoded data removed]",
      "text/plain": [
       "<Figure size 432x288 with 1 Axes>"
      ]
     },
     "metadata": {
      "needs_background": "light"
     },
     "output_type": "display_data"
    },
    {
     "name": "stdout",
     "output_type": "stream",
     "text": [
      "MSE: 0.2802914563730247, R2: 0.7227103608778104\n"
     ]
    }
   ],
   "source": [
    "#column_1 and column_2 can be any of the following ['country', 'designation', 'province', 'variety', 'price', 'winery']\n",
    "\n",
    "RegressWines('winery', 'variety', 6, 99)"
   ]
  },
  {
   "cell_type": "code",
   "execution_count": null,
   "metadata": {},
   "outputs": [],
   "source": []
  },
  {
   "cell_type": "code",
   "execution_count": null,
   "metadata": {},
   "outputs": [],
   "source": []
  },
  {
   "cell_type": "code",
   "execution_count": null,
   "metadata": {},
   "outputs": [],
   "source": []
  },
  {
   "cell_type": "code",
   "execution_count": null,
   "metadata": {},
   "outputs": [],
   "source": []
  },
  {
   "cell_type": "code",
   "execution_count": null,
   "metadata": {},
   "outputs": [],
   "source": []
  },
  {
   "cell_type": "code",
   "execution_count": null,
   "metadata": {},
   "outputs": [],
   "source": []
  },
  {
   "cell_type": "code",
   "execution_count": null,
   "metadata": {},
   "outputs": [],
   "source": []
  }
 ],
 "metadata": {
  "kernelspec": {
   "display_name": "Python 3",
   "language": "python",
   "name": "python3"
  },
  "language_info": {
   "codemirror_mode": {
    "name": "ipython",
    "version": 3
   },
   "file_extension": ".py",
   "mimetype": "text/x-python",
   "name": "python",
   "nbconvert_exporter": "python",
   "pygments_lexer": "ipython3",
   "version": "3.7.0"
  }
 },
 "nbformat": 4,
 "nbformat_minor": 2
}
