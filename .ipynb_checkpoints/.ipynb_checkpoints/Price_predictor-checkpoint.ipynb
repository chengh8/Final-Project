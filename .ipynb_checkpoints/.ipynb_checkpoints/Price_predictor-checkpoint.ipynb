{
 "cells": [
  {
   "cell_type": "code",
   "execution_count": 1,
   "metadata": {},
   "outputs": [],
   "source": [
    "import pandas as pd\n",
    "import matplotlib.pyplot as plt\n",
    "import os\n",
    "from sklearn.metrics import confusion_matrix\n",
    "import numpy as np"
   ]
  },
  {
   "cell_type": "code",
   "execution_count": 163,
   "metadata": {},
   "outputs": [],
   "source": [
    "#select two parameters (column_1 and column_2) to regress against price, will also include points\n",
    "#x_rank is number of top highest of each of the categories\n",
    "#percentile is cut off at which highest prices are removed\n",
    "\n",
    "#example:  RegressWines('country', 'variety', 6, 99):\n",
    "#takes the top 6 countries and top 6 varities and points (score), and removes the retains the bottom 99% of prices in distribution and regresses to predict prices\n",
    "#column_1 and column_2 can be any of the following ['country', 'designation', 'province', 'variety', 'price', 'winery']\n",
    "\n",
    "def RegressWines(column_1, column_2, x_ranks, percentile, model_type, alpha_var):\n",
    "\n",
    "    #import first 150k reviews, and second 130k reviews\n",
    "    review1 = pd.read_csv(os.path.join('winemag-data_first150k.csv'))\n",
    "    review2 = pd.read_csv(os.path.join('winemag-data-130k-v2.csv'))\n",
    "\n",
    "    #concatenate both dataframes by common columns\n",
    "    review_df = pd.concat([review1, review2], sort=False)\n",
    "    \n",
    "#     review_df.to_excel(r'C:\\Users\\marky\\Desktop\\LearnPython\\RICEHOU201811DATA2\\Final-Project/all_prices.xlsx')\n",
    "\n",
    "    #drop unnamed index columns\n",
    "    review_df = review_df.drop(['Unnamed: 0'], axis=1)\n",
    "\n",
    "    #reduce reviews to columns we want to regress against\n",
    "    model_df = review_df[['country', 'points', 'variety', 'price', 'winery']]\n",
    "\n",
    "    #drop NaN values\n",
    "    model_df = model_df.dropna()\n",
    "\n",
    "    #print total number of starting data points\n",
    "    print(f\"Starting data points for analysis: {len(model_df)}\")    \n",
    "    \n",
    "    #list top 6 countries\n",
    "    countries = ['US', 'Italy', 'France', 'Spain', 'Chile', 'Portugal']\n",
    "    \n",
    "    #reduce dataframe to contain only six countries\n",
    "    model_df = model_df[model_df['country'].isin(countries)]\n",
    "    \n",
    "    #create list of top 3 wineries in each of top 6 countries\n",
    "    wineries = []\n",
    "    for country in countries:\n",
    "        country_wineries = model_df[model_df['country']==country]['winery'].value_counts().head(3).index.tolist()\n",
    "        wineries.append(country_wineries)\n",
    "    \n",
    "    #create flat list of wineries from list of sublists\n",
    "    flat_list = [item for sublist in wineries for item in sublist]\n",
    "    \n",
    "    #list top x ranked items from column_2 and place in list to train data set\n",
    "    category_2 = pd.DataFrame(model_df[column_2].value_counts().head(x_ranks))\n",
    "    category_2 = category_2.index.tolist()\n",
    "\n",
    "    #reduce dataframe to contain only data points in top x_rank from columns 1 and columns 2 selected\n",
    "    model_df = model_df.loc[model_df['winery'].isin(flat_list)]\n",
    "    model_df = model_df.loc[model_df[column_2].isin(category_2)]\n",
    "\n",
    "    #print remaining number of data points\n",
    "    print(f\"Filtered Data Points: {len(model_df)}\") \n",
    "    print(\"-\"*60)\n",
    "    print(column_1)\n",
    "    print(flat_list)\n",
    "    print(\"-\"*60)\n",
    "    print(column_2)\n",
    "    print(category_2)\n",
    "    print(\"-\"*60)\n",
    "\n",
    "    print(f\"Starting Max Price = {round(model_df['price'].max(),2)}\")\n",
    "\n",
    "    #max price is definded as percentile cutoff\n",
    "    max_price = np.percentile(model_df['price'], percentile)\n",
    "    #remove top (100-percentile) of prices\n",
    "    model_df = model_df.loc[model_df['price']<= max_price]\n",
    "\n",
    "    #print new max price\n",
    "    print(f\"New Max Price = {round(model_df['price'].max(), 2)}\")\n",
    "     \n",
    "    #define X and y parameters\n",
    "    X = model_df[['points', column_1, column_2]]\n",
    "    y = model_df[\"price\"].values.reshape(-1, 1)\n",
    "\n",
    "    #mirror X into data to assign categorical values\n",
    "    data = X.copy()\n",
    "\n",
    "    # using get_dummies with a single column\n",
    "    X = pd.get_dummies(data, columns=[column_1, column_2])\n",
    "\n",
    "    #define training and testing variables\n",
    "    from sklearn.model_selection import train_test_split\n",
    "    from sklearn.metrics import mean_squared_error\n",
    "\n",
    "    X_train, X_test, y_train, y_test = train_test_split(X, y, random_state=42)\n",
    "\n",
    "    #scale and transform X and y values\n",
    "    from sklearn.preprocessing import StandardScaler\n",
    "    X_scaler = StandardScaler().fit(X_train)\n",
    "    y_scaler = StandardScaler().fit(y_train)\n",
    "\n",
    "    X_train_scaled = X_scaler.transform(X_train)\n",
    "    X_test_scaled = X_scaler.transform(X_test)\n",
    "    y_train_scaled = y_scaler.transform(y_train)\n",
    "    y_test_scaled = y_scaler.transform(y_test)\n",
    "\n",
    "    \n",
    "    if model_type==\"Linear\":\n",
    "        # Generate the model and fit it to the scaled training data\n",
    "        from sklearn.linear_model import LinearRegression\n",
    "        model = LinearRegression()\n",
    "        model.fit(X_train_scaled, y_train_scaled)\n",
    "        linear_predictions = model.predict(X_test_scaled)\n",
    "        MSE = mean_squared_error(y_test_scaled, linear_predictions)\n",
    "        r2 = model.score(X_test_scaled, y_test_scaled)\n",
    "        \n",
    "        graph_x_train = model.predict(X_train_scaled)\n",
    "        graph_y_train = model.predict(X_train_scaled) - y_train_scaled\n",
    "        graph_x_test = model.predict(X_test_scaled)\n",
    "        graph_y_test = model.predict(X_test_scaled) - y_test_scaled\n",
    "        \n",
    "    ########LASSO############    \n",
    "\n",
    "    elif model_type==\"Lasso\":\n",
    "        # Note: Use an alpha of .01 when creating the model for this activity\n",
    "        from sklearn.linear_model import Lasso\n",
    "\n",
    "        lasso = Lasso(alpha=alpha_var).fit(X_train_scaled, y_train_scaled)\n",
    "        lasso_predictions = lasso.predict(X_test_scaled)\n",
    "        \n",
    "        MSE = mean_squared_error(y_test_scaled, lasso_predictions)\n",
    "        r2 = lasso.score(X_test_scaled, y_test_scaled)\n",
    "\n",
    "        graph_x_train = lasso.predict(X_train_scaled)\n",
    "        graph_y_train = lasso.predict(X_train_scaled) - y_train_scaled[:,0]\n",
    "        graph_x_test = lasso.predict(X_test_scaled)\n",
    "        graph_y_test = lasso.predict(X_test_scaled) - y_test_scaled[:,0]\n",
    "        \n",
    "    elif model_type==\"Ridge\":\n",
    "    # Note: Use an alpha of .01 when creating the model for this activity\n",
    "        from sklearn.linear_model import Ridge\n",
    "\n",
    "        ridge = Ridge(alpha=alpha_var).fit(X_train_scaled, y_train_scaled)\n",
    "        predictions = ridge.predict(X_test_scaled)\n",
    "\n",
    "        graph_x_train = ridge.predict(X_train_scaled)\n",
    "        graph_y_train = ridge.predict(X_train_scaled) - y_train_scaled\n",
    "        graph_x_test = ridge.predict(X_test_scaled)\n",
    "        graph_y_test = ridge.predict(X_test_scaled) - y_test_scaled\n",
    "        \n",
    "        MSE = mean_squared_error(y_test_scaled, predictions)\n",
    "        r2 = ridge.score(X_test_scaled, y_test_scaled)\n",
    "        \n",
    "    elif model_type==\"Elastic Net\":\n",
    "        from sklearn.linear_model import ElasticNet\n",
    "\n",
    "        elasticnet = ElasticNet(alpha=alpha_var).fit(X_train_scaled, y_train_scaled)\n",
    "        predictions = elasticnet.predict(X_test_scaled)\n",
    "        MSE = mean_squared_error(y_test_scaled, predictions)\n",
    "        r2 = elasticnet.score(X_test_scaled, y_test_scaled)\n",
    "\n",
    "        graph_x_train = elasticnet.predict(X_train_scaled)\n",
    "        graph_y_train = elasticnet.predict(X_train_scaled) - y_train_scaled[:,0]\n",
    "        graph_x_test = elasticnet.predict(X_test_scaled)\n",
    "        graph_y_test = elasticnet.predict(X_test_scaled) - y_test_scaled[:,0]\n",
    "        \n",
    "          \n",
    "        MSE = mean_squared_error(y_test_scaled, predictions)\n",
    "        r2 = elasticnet.score(X_test_scaled, y_test_scaled)\n",
    "\n",
    "    plt.scatter(graph_x_train, graph_y_train, c=\"blue\", label=\"Training Data\")\n",
    "    plt.scatter(graph_x_test, graph_y_test, c=\"orange\", label=\"Testing Data\")\n",
    "    plt.legend()\n",
    "    plt.title(\"Residual Plot\")\n",
    "    plt.show()\n",
    "    \n",
    "    print(f\"Model Type: {model_type}, MSE: {MSE}, R2: {r2}\")  \n",
    "    \n",
    "    return plt.hist(model_df['price'])"
   ]
  },
  {
   "cell_type": "code",
   "execution_count": 165,
   "metadata": {},
   "outputs": [
    {
     "name": "stdout",
     "output_type": "stream",
     "text": [
      "Starting data points for analysis: 258145\n",
      "Filtered Data Points: 2738\n",
      "------------------------------------------------------------\n",
      "winery\n",
      "['Williams Selyem', 'Testarossa', 'Chateau Ste. Michelle', 'Feudi di San Gregorio', 'Planeta', 'Tommasi', 'Louis Latour', 'Joseph Drouhin', 'Bouchard Père & Fils', 'Marqués de Cáceres', 'Torres', 'Bodegas Valdemar', 'Concha y Toro', 'Montes', 'Santa Ema', 'DFJ Vinhos', 'Wines & Winemakers', 'Companhia das Quintas']\n",
      "------------------------------------------------------------\n",
      "variety\n",
      "['Pinot Noir', 'Chardonnay', 'Cabernet Sauvignon', 'Red Blend', 'Syrah', 'Bordeaux-style Red Blend']\n",
      "------------------------------------------------------------\n",
      "Starting Max Price = 757.0\n",
      "New Max Price = 757.0\n"
     ]
    },
    {
     "data": {
      "image/png": "[encoded data removed]",
      "text/plain": [
       "<Figure size 432x288 with 1 Axes>"
      ]
     },
     "metadata": {
      "needs_background": "light"
     },
     "output_type": "display_data"
    },
    {
     "name": "stdout",
     "output_type": "stream",
     "text": [
      "Model Type: Linear, MSE: 0.7105803977539122, R2: 0.38623624610164375\n"
     ]
    },
    {
     "data": {
      "text/plain": [
       "(array([2274.,  323.,   37.,   41.,   29.,    9.,    5.,    6.,    9.,\n",
       "           5.]),\n",
       " array([  7.,  82., 157., 232., 307., 382., 457., 532., 607., 682., 757.]),\n",
       " <a list of 10 Patch objects>)"
      ]
     },
     "execution_count": 165,
     "metadata": {},
     "output_type": "execute_result"
    },
    {
     "data": {
      "image/png": "[encoded data removed]",
      "text/plain": [
       "<Figure size 432x288 with 1 Axes>"
      ]
     },
     "metadata": {
      "needs_background": "light"
     },
     "output_type": "display_data"
    }
   ],
   "source": [
    "#column_1 and column_2 can be any of the following ['country', 'designation', 'province', 'variety', 'price', 'winery']\n",
    "#model_type = [Linear, Ridge, Lasso, Elastic Net]\n",
    "RegressWines('winery', 'variety', 6, 100, \"Linear\", 0.01)"
   ]
  },
  {
   "cell_type": "code",
   "execution_count": 151,
   "metadata": {},
   "outputs": [
    {
     "name": "stdout",
     "output_type": "stream",
     "text": [
      "Starting data points for analysis: 258145\n"
     ]
    }
   ],
   "source": [
    "xdf = RegressWines('winery', 'variety', 10, 100, \"Linear\", 0.01)"
   ]
  },
  {
   "cell_type": "code",
   "execution_count": 155,
   "metadata": {},
   "outputs": [
    {
     "data": {
      "text/plain": [
       "Marqués de Cáceres             133\n",
       "Torres                         129\n",
       "Bodegas Valdemar               128\n",
       "Freixenet                      127\n",
       "Segura Viudas                  120\n",
       "CVNE                           113\n",
       "Sierra Cantabria               107\n",
       "Telmo Rodríguez                102\n",
       "Vicente Gandia                  93\n",
       "Muga                            85\n",
       "El Coto                         85\n",
       "Borsao                          81\n",
       "Ramón Bilbao                    79\n",
       "Vega Sindoa                     75\n",
       "Bodegas Navarro López           75\n",
       "Emilio Moro                     70\n",
       "González Byass                  68\n",
       "Bodegas Fariña                  66\n",
       "Ochoa                           65\n",
       "Bodegas Palacio                 64\n",
       "Marques de Griñon               64\n",
       "Baron De Ley                    63\n",
       "Marqués de la Concordia         62\n",
       "Bodegas Dios Baco S.L.          61\n",
       "García Figuero                  59\n",
       "Coto de Hayas                   59\n",
       "Emina                           57\n",
       "Alta Alella                     56\n",
       "Bodegas Faustino                55\n",
       "Bodegas Luzón                   54\n",
       "                              ... \n",
       "Torre León                       1\n",
       "Flourish                         1\n",
       "Viña Sila                        1\n",
       "Aradon                           1\n",
       "Oxer Basteguieta                 1\n",
       "Carmelo Rodero                   1\n",
       "ValdoCea                         1\n",
       "Damia                            1\n",
       "Riberal                          1\n",
       "Tenoira                          1\n",
       "Nuestras Cepas                   1\n",
       "Bodegas Conde                    1\n",
       "Viña Magaña                      1\n",
       "Molí dels Capellans              1\n",
       "Marques Escriba                  1\n",
       "Tineta                           1\n",
       "Viña Pródigus                    1\n",
       "Los Cucos de la Alberquilla      1\n",
       "Vizorro                          1\n",
       "El Agosto                        1\n",
       "Clos Barenys                     1\n",
       "Palacio de Primavera             1\n",
       "Bach                             1\n",
       "Gratavinum                       1\n",
       "Gosalbez Orti                    1\n",
       "Pipeta                           1\n",
       "Gil Luna                         1\n",
       "La Antigua                       1\n",
       "Mayoral                          1\n",
       "Gran Sarao                       1\n",
       "Name: winery, Length: 1727, dtype: int64"
      ]
     },
     "execution_count": 155,
     "metadata": {},
     "output_type": "execute_result"
    }
   ],
   "source": [
    "xdf[xdf['country']==\"Spain\"]['winery'].value_counts()"
   ]
  },
  {
   "cell_type": "code",
   "execution_count": null,
   "metadata": {},
   "outputs": [],
   "source": []
  },
  {
   "cell_type": "code",
   "execution_count": null,
   "metadata": {},
   "outputs": [],
   "source": []
  }
 ],
 "metadata": {
  "kernelspec": {
   "display_name": "Python 3",
   "language": "python",
   "name": "python3"
  },
  "language_info": {
   "codemirror_mode": {
    "name": "ipython",
    "version": 3
   },
   "file_extension": ".py",
   "mimetype": "text/x-python",
   "name": "python",
   "nbconvert_exporter": "python",
   "pygments_lexer": "ipython3",
   "version": "3.7.0"
  }
 },
 "nbformat": 4,
 "nbformat_minor": 2
}
