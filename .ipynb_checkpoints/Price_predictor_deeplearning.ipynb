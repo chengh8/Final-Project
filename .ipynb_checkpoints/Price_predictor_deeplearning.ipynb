{
 "cells": [
  {
   "cell_type": "code",
   "execution_count": 1,
   "metadata": {},
   "outputs": [],
   "source": [
    "import pandas as pd\n",
    "import matplotlib.pyplot as plt\n",
    "import os\n",
    "from sklearn.metrics import confusion_matrix\n",
    "import numpy as np"
   ]
  },
  {
   "cell_type": "code",
   "execution_count": 46,
   "metadata": {},
   "outputs": [],
   "source": [
    "#select two parameters (column_1 and column_2) to regress against price, will also include points\n",
    "#x_rank is number of top highest of each of the categories\n",
    "#percentile is cut off at which highest prices are removed\n",
    "\n",
    "#example:  RegressWines('country', 'variety', 6, 99):\n",
    "#takes the top 6 countries and top 6 varities and points (score), and removes the retains the bottom 99% of prices in distribution and regresses to predict prices\n",
    "#column_1 and column_2 can be any of the following ['country', 'designation', 'province', 'variety', 'price', 'winery']\n",
    "\n",
    "def DeepLearnWines(column_1, column_2, x_ranks, percentile, price_bucket_range):\n",
    "\n",
    "    #import first 150k reviews, and second 130k reviews\n",
    "    review1 = pd.read_csv(os.path.join('winemag-data_first150k.csv'))\n",
    "    review2 = pd.read_csv(os.path.join('winemag-data-130k-v2.csv'))\n",
    "\n",
    "    #concatenate both dataframes by common columns\n",
    "    review_df = pd.concat([review1, review2], sort=False)\n",
    "\n",
    "    #drop unnamed index columns\n",
    "    review_df = review_df.drop(['Unnamed: 0'], axis=1)\n",
    "\n",
    "    #reduce reviews to columns we want to regress against\n",
    "    model_df = review_df[['country', 'points', 'variety', 'price', 'winery']]\n",
    "\n",
    "    #drop NaN values\n",
    "    model_df = model_df.dropna()\n",
    "\n",
    "    #print total number of starting data points\n",
    "    print(f\"Starting data points for analysis: {len(model_df)}\")    \n",
    "\n",
    "    #list top 6 countries\n",
    "    countries = ['US', 'Italy', 'France', 'Spain', 'Chile', 'Portugal']\n",
    "    \n",
    "    #reduce dataframe to contain only six countries\n",
    "    model_df = model_df[model_df['country'].isin(countries)]\n",
    "    \n",
    "    #create list of top 3 wineries in each of top 6 countries\n",
    "    wineries = []\n",
    "    for country in countries:\n",
    "        country_wineries = model_df[model_df['country']==country]['winery'].value_counts().head(3).index.tolist()\n",
    "        wineries.append(country_wineries)\n",
    "    \n",
    "    #create flat list of wineries from list of sublists\n",
    "    flat_list = [item for sublist in wineries for item in sublist]\n",
    "    \n",
    "    #list top x ranked items from column_2 and place in list to train data set\n",
    "    category_2 = pd.DataFrame(model_df[column_2].value_counts().head(x_ranks))\n",
    "    category_2 = category_2.index.tolist()\n",
    "\n",
    "    #reduce dataframe to contain only data points in top x_rank from columns 1 and columns 2 selected\n",
    "    model_df = model_df.loc[model_df['winery'].isin(flat_list)]\n",
    "    model_df = model_df.loc[model_df[column_2].isin(category_2)]\n",
    "\n",
    "    #print remaining number of data points\n",
    "    print(f\"Filtered Data Points: {len(model_df)}\") \n",
    "    print(\"-\"*60)\n",
    "    print(column_1)\n",
    "    print(flat_list)\n",
    "    print(\"-\"*60)\n",
    "    print(column_2)\n",
    "    print(category_2)\n",
    "    print(\"-\"*60)\n",
    "\n",
    "    #max price is definded as percentile cutoff\n",
    "    print(f\"Starting Max Price = {model_df['price'].max()}\")\n",
    "    max_price = np.percentile(model_df['price'], percentile)\n",
    "    \n",
    "    #remove top (100-percentile) of prices\n",
    "    model_df = model_df.loc[model_df['price']<= max_price]\n",
    "\n",
    "    #print new max price\n",
    "    print(f\"New Max Price = {model_df['price'].max()}\")\n",
    "\n",
    "    number_of_buckets = 4\n",
    "    price_buckets = []\n",
    "          \n",
    "    if price_bucket_range==\"uniform\":\n",
    "        for i in range (1,number_of_buckets):\n",
    "            percentile = i*100/number_of_buckets\n",
    "            price = np.percentile(model_df['price'], percentile)\n",
    "            price_buckets.append(price)\n",
    "            print(f\"Percentile: {percentile}; Price: {price}\")\n",
    "    \n",
    "    elif price_bucket_range==\"extreme\":\n",
    "        percentile = [5, 50, 95]\n",
    "        for i in range(0, len(percentile)):\n",
    "            price = np.percentile(model_df['price'], percentile[i])\n",
    "            price_buckets.append(price)\n",
    "            print(f\"Percentile: {percentile[i]}; Price: {price}\")\n",
    "    \n",
    "    model_df['price_dummy'] = model_df['price'].apply(lambda x: 0 if x < price_buckets[0] else (1 if x < price_buckets[1] else (2 if x < price_buckets[2] else 3)))      \n",
    "          \n",
    "    #define X and y parameters\n",
    "    X = model_df[['points', column_1, column_2]]\n",
    "    y = model_df[\"price_dummy\"].values.reshape(-1, 1)\n",
    "\n",
    "    #mirror X into data to assign categorical values\n",
    "    data = X.copy()\n",
    "\n",
    "    # using get_dummies with a single column\n",
    "    X = pd.get_dummies(data, columns=[column_1, column_2])\n",
    "\n",
    "    #define training and testing variables\n",
    "    from sklearn.model_selection import train_test_split\n",
    "\n",
    "    X_train, X_test, y_train, y_test = train_test_split(X, y, random_state=42)\n",
    "\n",
    "    from sklearn.preprocessing import StandardScaler\n",
    "    from keras.utils import to_categorical\n",
    "\n",
    "    # Create a StandardScater model and fit it to the training data\n",
    "    X_scaler = StandardScaler().fit(X_train)\n",
    "    y_scaler = StandardScaler().fit(y_train)\n",
    "    # Transform the training and testing data using the X_scaler\n",
    "    X_train_scaled = X_scaler.transform(X_train)\n",
    "    X_test_scaled = X_scaler.transform(X_test)\n",
    "    y_train_categorical = to_categorical(y_train)\n",
    "    y_test_categorical = to_categorical(y_test)\n",
    "\n",
    "    # first, create a normal neural network with 2 inputs, 6 hidden nodes, and 2 outputs\n",
    "    from keras.models import Sequential\n",
    "    from keras.layers import Dense\n",
    "\n",
    "    input_dim_n = len(X.columns.tolist())\n",
    "\n",
    "    deep_model = Sequential()\n",
    "    deep_model.add(Dense(units=10, activation='relu', input_dim=input_dim_n))\n",
    "    deep_model.add(Dense(units=10, activation='relu'))\n",
    "    deep_model.add(Dense(units=number_of_buckets, activation='softmax'))\n",
    "\n",
    "    deep_model.summary()\n",
    "\n",
    "    deep_model.compile(optimizer='adam',\n",
    "                   loss='categorical_crossentropy',\n",
    "                   metrics=['accuracy'])\n",
    "\n",
    "    history =  deep_model.fit(\n",
    "        X_test_scaled,\n",
    "        y_test_categorical,\n",
    "        validation_split=0.33, epochs=30, batch_size=10, verbose=0\n",
    "    )        \n",
    "\n",
    "    print(history.history.keys())\n",
    "    # summarize history for accuracy\n",
    "    plt.plot(history.history['acc'])\n",
    "    plt.plot(history.history['val_acc'])\n",
    "    plt.title('model accuracy')\n",
    "    plt.ylabel('accuracy')\n",
    "    plt.xlabel('epoch')\n",
    "    plt.legend(['train', 'test'], loc='upper left')\n",
    "    plt.show()\n",
    "    # summarize history for loss\n",
    "    plt.plot(history.history['loss'])\n",
    "    plt.plot(history.history['val_loss'])\n",
    "    plt.title('model loss')\n",
    "    plt.ylabel('loss')\n",
    "    plt.xlabel('epoch')\n",
    "    plt.legend(['train', 'test'], loc='upper left')\n",
    "    plt.show()\n",
    "          \n",
    "    return history\n",
    "          "
   ]
  },
  {
   "cell_type": "code",
   "execution_count": 50,
   "metadata": {},
   "outputs": [
    {
     "name": "stdout",
     "output_type": "stream",
     "text": [
      "Starting data points for analysis: 258145\n",
      "Filtered Data Points: 3279\n",
      "------------------------------------------------------------\n",
      "winery\n",
      "['Williams Selyem', 'Testarossa', 'Chateau Ste. Michelle', 'Feudi di San Gregorio', 'Planeta', 'Tommasi', 'Louis Latour', 'Joseph Drouhin', 'Bouchard Père & Fils', 'Marqués de Cáceres', 'Torres', 'Bodegas Valdemar', 'Concha y Toro', 'Montes', 'Santa Ema', 'DFJ Vinhos', 'Wines & Winemakers', 'Companhia das Quintas']\n",
      "------------------------------------------------------------\n",
      "variety\n",
      "['Pinot Noir', 'Chardonnay', 'Cabernet Sauvignon', 'Red Blend', 'Syrah', 'Bordeaux-style Red Blend', 'Sauvignon Blanc', 'Merlot', 'Zinfandel', 'Rosé']\n",
      "------------------------------------------------------------\n",
      "Starting Max Price = 757.0\n",
      "New Max Price = 757.0\n",
      "Percentile: 25.0; Price: 20.0\n",
      "Percentile: 50.0; Price: 40.0\n",
      "Percentile: 75.0; Price: 62.5\n",
      "_________________________________________________________________\n",
      "Layer (type)                 Output Shape              Param #   \n",
      "=================================================================\n",
      "dense_85 (Dense)             (None, 10)                300       \n",
      "_________________________________________________________________\n",
      "dense_86 (Dense)             (None, 10)                110       \n",
      "_________________________________________________________________\n",
      "dense_87 (Dense)             (None, 4)                 44        \n",
      "=================================================================\n",
      "Total params: 454\n",
      "Trainable params: 454\n",
      "Non-trainable params: 0\n",
      "_________________________________________________________________\n"
     ]
    },
    {
     "name": "stderr",
     "output_type": "stream",
     "text": [
      "C:\\Users\\marky\\Anaconda3\\lib\\site-packages\\sklearn\\utils\\validation.py:475: DataConversionWarning: Data with input dtype int64 was converted to float64 by StandardScaler.\n",
      "  warnings.warn(msg, DataConversionWarning)\n"
     ]
    },
    {
     "name": "stdout",
     "output_type": "stream",
     "text": [
      "dict_keys(['val_loss', 'val_acc', 'loss', 'acc'])\n"
     ]
    },
    {
     "data": {
      "image/png": "[encoded data removed]",
      "text/plain": [
       "<Figure size 432x288 with 1 Axes>"
      ]
     },
     "metadata": {
      "needs_background": "light"
     },
     "output_type": "display_data"
    },
    {
     "data": {
      "image/png": "[encoded data removed]",
      "text/plain": [
       "<Figure size 432x288 with 1 Axes>"
      ]
     },
     "metadata": {
      "needs_background": "light"
     },
     "output_type": "display_data"
    },
    {
     "data": {
      "text/plain": [
       "<keras.callbacks.History at 0x1c1a59a1b38>"
      ]
     },
     "execution_count": 50,
     "metadata": {},
     "output_type": "execute_result"
    }
   ],
   "source": [
    "#column_1 and column_2 can be any of the following ['country', 'designation', 'province', 'variety', 'price', 'winery']\n",
    "#5th argument is price bucket range either extreme or uniform\n",
    "DeepLearnWines('winery', 'variety', 10, 100, \"uniform\")"
   ]
  },
  {
   "cell_type": "code",
   "execution_count": null,
   "metadata": {},
   "outputs": [],
   "source": []
  },
  {
   "cell_type": "code",
   "execution_count": null,
   "metadata": {},
   "outputs": [],
   "source": []
  },
  {
   "cell_type": "code",
   "execution_count": null,
   "metadata": {},
   "outputs": [],
   "source": []
  },
  {
   "cell_type": "code",
   "execution_count": null,
   "metadata": {},
   "outputs": [],
   "source": []
  }
 ],
 "metadata": {
  "kernelspec": {
   "display_name": "Python 3",
   "language": "python",
   "name": "python3"
  },
  "language_info": {
   "codemirror_mode": {
    "name": "ipython",
    "version": 3
   },
   "file_extension": ".py",
   "mimetype": "text/x-python",
   "name": "python",
   "nbconvert_exporter": "python",
   "pygments_lexer": "ipython3",
   "version": "3.7.0"
  }
 },
 "nbformat": 4,
 "nbformat_minor": 2
}
